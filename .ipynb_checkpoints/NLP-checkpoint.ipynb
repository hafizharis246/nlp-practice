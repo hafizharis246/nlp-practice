{
 "cells": [
  {
   "cell_type": "markdown",
   "id": "52988c8a-f8e0-4ca2-87a5-c0cbd5a7c02e",
   "metadata": {},
   "source": [
    "## Tokenization"
   ]
  },
  {
   "cell_type": "code",
   "execution_count": 17,
   "id": "49dbcfe8-35e2-45ac-a3e5-c9b8ccc04f25",
   "metadata": {},
   "outputs": [],
   "source": [
    "corpus = \"\"\"Hello! This is Hafiz Haris Mehmood, from Pakistan. \n",
    "Welcome to Data Services.\n",
    "\"\"\""
   ]
  },
  {
   "cell_type": "code",
   "execution_count": 19,
   "id": "85658daf-ef88-4314-98b9-dd691329502f",
   "metadata": {},
   "outputs": [],
   "source": [
    "import nltk"
   ]
  },
  {
   "cell_type": "code",
   "execution_count": 41,
   "id": "f202e7e8-98dd-487d-a8c1-a3eaf13de8ad",
   "metadata": {},
   "outputs": [],
   "source": [
    "from nltk.tokenize import sent_tokenize, word_tokenize, wordpunct_tokenize"
   ]
  },
  {
   "cell_type": "code",
   "execution_count": 23,
   "id": "b39013d6-8acf-4071-9c5a-d506cc105644",
   "metadata": {},
   "outputs": [
    {
     "name": "stdout",
     "output_type": "stream",
     "text": [
      "['Hello!', 'This is Hafiz Haris Mehmood, from Pakistan.', 'Welcome to Data Services.']\n"
     ]
    }
   ],
   "source": [
    "print(sent_tokenize(corpus))"
   ]
  },
  {
   "cell_type": "code",
   "execution_count": 25,
   "id": "b405349d-3709-43be-8850-7cf88a292c5c",
   "metadata": {},
   "outputs": [
    {
     "name": "stdout",
     "output_type": "stream",
     "text": [
      "Hello!\n",
      "This is Hafiz Haris Mehmood, from Pakistan.\n",
      "Welcome to Data Services.\n"
     ]
    }
   ],
   "source": [
    "for sentence in sent_tokenize(corpus):\n",
    "    print(sentence)"
   ]
  },
  {
   "cell_type": "code",
   "execution_count": 29,
   "id": "806f8642-4fc8-44d4-a112-8a81acb0c92a",
   "metadata": {},
   "outputs": [
    {
     "name": "stdout",
     "output_type": "stream",
     "text": [
      "['Hello', '!', 'This', 'is', 'Hafiz', 'Haris', 'Mehmood', ',', 'from', 'Pakistan', '.', 'Welcome', 'to', 'Data', 'Services', '.']\n"
     ]
    }
   ],
   "source": [
    "print(word_tokenize(corpus))"
   ]
  },
  {
   "cell_type": "code",
   "execution_count": 31,
   "id": "d075f03c-c1f9-4323-bc8c-1c0e46a1a5e0",
   "metadata": {},
   "outputs": [
    {
     "name": "stdout",
     "output_type": "stream",
     "text": [
      "Hello\n",
      "!\n",
      "This\n",
      "is\n",
      "Hafiz\n",
      "Haris\n",
      "Mehmood\n",
      ",\n",
      "from\n",
      "Pakistan\n",
      ".\n",
      "Welcome\n",
      "to\n",
      "Data\n",
      "Services\n",
      ".\n"
     ]
    }
   ],
   "source": [
    "for words in word_tokenize(corpus):\n",
    "    print(words)"
   ]
  },
  {
   "cell_type": "code",
   "execution_count": 37,
   "id": "dc5c8251-f54a-4f7c-b639-a1cd7c4de2ad",
   "metadata": {},
   "outputs": [
    {
     "data": {
      "text/plain": [
       "['Hello',\n",
       " '!',\n",
       " 'This',\n",
       " 'is',\n",
       " 'Hafiz',\n",
       " 'Haris',\n",
       " 'Mehmood',\n",
       " ',',\n",
       " 'from',\n",
       " 'Pakistan',\n",
       " '.',\n",
       " 'Welcome',\n",
       " 'to',\n",
       " 'Data',\n",
       " 'Services',\n",
       " '.']"
      ]
     },
     "execution_count": 37,
     "metadata": {},
     "output_type": "execute_result"
    }
   ],
   "source": [
    "wordpunct_tokenize(corpus)"
   ]
  },
  {
   "cell_type": "code",
   "execution_count": null,
   "id": "939c5d81-b1e8-42e8-97ba-1cc6af7aeb43",
   "metadata": {},
   "outputs": [],
   "source": []
  },
  {
   "cell_type": "code",
   "execution_count": null,
   "id": "b97af962-1d71-443f-b2db-4ed65c296fe4",
   "metadata": {},
   "outputs": [],
   "source": []
  }
 ],
 "metadata": {
  "kernelspec": {
   "display_name": "Python 3 (ipykernel)",
   "language": "python",
   "name": "python3"
  },
  "language_info": {
   "codemirror_mode": {
    "name": "ipython",
    "version": 3
   },
   "file_extension": ".py",
   "mimetype": "text/x-python",
   "name": "python",
   "nbconvert_exporter": "python",
   "pygments_lexer": "ipython3",
   "version": "3.12.7"
  }
 },
 "nbformat": 4,
 "nbformat_minor": 5
}
